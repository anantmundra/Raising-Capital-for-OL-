{
 "cells": [
  {
   "cell_type": "markdown",
   "metadata": {},
   "source": [
    "# <span style='background :beige'><span style='font-family:\"Times New Roman\"'>Q5. Build a Dutch auction based price discovery platform for OLA public issue. </span> "
   ]
  },
  {
   "cell_type": "markdown",
   "metadata": {},
   "source": [
    "## <span style='background :paleturquoise'><span style='font-family:\"Times New Roman\"'>Importing Necessary Libraries</span> "
   ]
  },
  {
   "cell_type": "code",
   "execution_count": 11,
   "metadata": {},
   "outputs": [],
   "source": [
    "import pandas as pd\n",
    "import matplotlib.pyplot as plt\n",
    "import seaborn as sns\n",
    "sns.set()"
   ]
  },
  {
   "cell_type": "markdown",
   "metadata": {},
   "source": [
    "## <span style='background :palegreen'><span style='font-family:\"Times New Roman\"'>How Does Dutch Auction Work?</span>\n",
    "### The goal of a Dutch auction is the find the optimal price at which to sell a security.     \n",
    "### To participate in a Dutch auction, an investor typically opens an account with Company XYZ's underwriter (usually an investment bank), obtains a prospectus, and obtains an access code or bidder identification code (Dutch auctions often occur online).     \n",
    "### During bidding, investors indicate how many shares they're willing to buy and the price they're willing to pay. \n",
    "### The underwriter, who acts as the auctioneer, usually starts the auction by offering a prohibitively high price for the security. \n",
    "### When the auction closes, the underwriters calculate the highest price at which all shares will be sold.    "
   ]
  },
  {
   "cell_type": "markdown",
   "metadata": {},
   "source": [
    "## <span style='background :palegreen'><span style='font-family:\"Times New Roman\"'>Dutch Auction Platform</span>"
   ]
  },
  {
   "cell_type": "code",
   "execution_count": 2,
   "metadata": {},
   "outputs": [
    {
     "name": "stdout",
     "output_type": "stream",
     "text": [
      "Total Shares of Company: 400\n",
      "Enter the number of Investors: 6\n",
      "Enter the Bids (in $): \n",
      "300 450 100 200 150 120\n",
      "Enter the Shares (in $): \n",
      "200 25 500 60 100 15\n"
     ]
    },
    {
     "data": {
      "text/html": [
       "<style  type=\"text/css\" >\n",
       "    #T_2fa4be34_dc66_11ea_ad85_8c1645e7f884row0_col1 {\n",
       "            background-color:  #bafcba;\n",
       "            color:  #000000;\n",
       "        }    #T_2fa4be34_dc66_11ea_ad85_8c1645e7f884row0_col2 {\n",
       "            background-color:  #c9fdc9;\n",
       "            color:  #000000;\n",
       "        }    #T_2fa4be34_dc66_11ea_ad85_8c1645e7f884row0_col3 {\n",
       "            background-color:  #e6fee6;\n",
       "            color:  #000000;\n",
       "        }    #T_2fa4be34_dc66_11ea_ad85_8c1645e7f884row0_col4 {\n",
       "            background-color:  #e1fee1;\n",
       "            color:  #000000;\n",
       "        }    #T_2fa4be34_dc66_11ea_ad85_8c1645e7f884row1_col1 {\n",
       "            background-color:  #98fb98;\n",
       "            color:  #000000;\n",
       "        }    #T_2fa4be34_dc66_11ea_ad85_8c1645e7f884row1_col2 {\n",
       "            background-color:  #e5fee5;\n",
       "            color:  #000000;\n",
       "        }    #T_2fa4be34_dc66_11ea_ad85_8c1645e7f884row1_col3 {\n",
       "            background-color:  #e4fee4;\n",
       "            color:  #000000;\n",
       "        }    #T_2fa4be34_dc66_11ea_ad85_8c1645e7f884row1_col4 {\n",
       "            background-color:  #98fb98;\n",
       "            color:  #000000;\n",
       "        }    #T_2fa4be34_dc66_11ea_ad85_8c1645e7f884row2_col1 {\n",
       "            background-color:  #e6fee6;\n",
       "            color:  #000000;\n",
       "        }    #T_2fa4be34_dc66_11ea_ad85_8c1645e7f884row2_col2 {\n",
       "            background-color:  #98fb98;\n",
       "            color:  #000000;\n",
       "        }    #T_2fa4be34_dc66_11ea_ad85_8c1645e7f884row2_col3 {\n",
       "            background-color:  #abfcab;\n",
       "            color:  #000000;\n",
       "        }    #T_2fa4be34_dc66_11ea_ad85_8c1645e7f884row2_col4 {\n",
       "            background-color:  #e6fee6;\n",
       "            color:  #000000;\n",
       "        }    #T_2fa4be34_dc66_11ea_ad85_8c1645e7f884row3_col1 {\n",
       "            background-color:  #d0fdd0;\n",
       "            color:  #000000;\n",
       "        }    #T_2fa4be34_dc66_11ea_ad85_8c1645e7f884row3_col2 {\n",
       "            background-color:  #dffedf;\n",
       "            color:  #000000;\n",
       "        }    #T_2fa4be34_dc66_11ea_ad85_8c1645e7f884row3_col3 {\n",
       "            background-color:  #a5fca5;\n",
       "            color:  #000000;\n",
       "        }    #T_2fa4be34_dc66_11ea_ad85_8c1645e7f884row3_col4 {\n",
       "            background-color:  #d9fed9;\n",
       "            color:  #000000;\n",
       "        }    #T_2fa4be34_dc66_11ea_ad85_8c1645e7f884row4_col1 {\n",
       "            background-color:  #dbfedb;\n",
       "            color:  #000000;\n",
       "        }    #T_2fa4be34_dc66_11ea_ad85_8c1645e7f884row4_col2 {\n",
       "            background-color:  #d9fed9;\n",
       "            color:  #000000;\n",
       "        }    #T_2fa4be34_dc66_11ea_ad85_8c1645e7f884row4_col3 {\n",
       "            background-color:  #9afb9a;\n",
       "            color:  #000000;\n",
       "        }    #T_2fa4be34_dc66_11ea_ad85_8c1645e7f884row4_col4 {\n",
       "            background-color:  #e1fee1;\n",
       "            color:  #000000;\n",
       "        }    #T_2fa4be34_dc66_11ea_ad85_8c1645e7f884row5_col1 {\n",
       "            background-color:  #e2fee2;\n",
       "            color:  #000000;\n",
       "        }    #T_2fa4be34_dc66_11ea_ad85_8c1645e7f884row5_col2 {\n",
       "            background-color:  #e6fee6;\n",
       "            color:  #000000;\n",
       "        }    #T_2fa4be34_dc66_11ea_ad85_8c1645e7f884row5_col3 {\n",
       "            background-color:  #98fb98;\n",
       "            color:  #000000;\n",
       "        }    #T_2fa4be34_dc66_11ea_ad85_8c1645e7f884row5_col4 {\n",
       "            background-color:  #c4fdc4;\n",
       "            color:  #000000;\n",
       "        }</style><table id=\"T_2fa4be34_dc66_11ea_ad85_8c1645e7f884\" ><thead>    <tr>        <th class=\"blank level0\" ></th>        <th class=\"col_heading level0 col0\" >Bidder</th>        <th class=\"col_heading level0 col1\" >Bid ($)</th>        <th class=\"col_heading level0 col2\" >Quantity (shares)</th>        <th class=\"col_heading level0 col3\" >Cummulative (shares)</th>        <th class=\"col_heading level0 col4\" >Price for each share ($)</th>    </tr></thead><tbody>\n",
       "                <tr>\n",
       "                        <th id=\"T_2fa4be34_dc66_11ea_ad85_8c1645e7f884level0_row0\" class=\"row_heading level0 row0\" >0</th>\n",
       "                        <td id=\"T_2fa4be34_dc66_11ea_ad85_8c1645e7f884row0_col0\" class=\"data row0 col0\" >A</td>\n",
       "                        <td id=\"T_2fa4be34_dc66_11ea_ad85_8c1645e7f884row0_col1\" class=\"data row0 col1\" >300</td>\n",
       "                        <td id=\"T_2fa4be34_dc66_11ea_ad85_8c1645e7f884row0_col2\" class=\"data row0 col2\" >200</td>\n",
       "                        <td id=\"T_2fa4be34_dc66_11ea_ad85_8c1645e7f884row0_col3\" class=\"data row0 col3\" >200</td>\n",
       "                        <td id=\"T_2fa4be34_dc66_11ea_ad85_8c1645e7f884row0_col4\" class=\"data row0 col4\" >1.5</td>\n",
       "            </tr>\n",
       "            <tr>\n",
       "                        <th id=\"T_2fa4be34_dc66_11ea_ad85_8c1645e7f884level0_row1\" class=\"row_heading level0 row1\" >1</th>\n",
       "                        <td id=\"T_2fa4be34_dc66_11ea_ad85_8c1645e7f884row1_col0\" class=\"data row1 col0\" >B</td>\n",
       "                        <td id=\"T_2fa4be34_dc66_11ea_ad85_8c1645e7f884row1_col1\" class=\"data row1 col1\" >450</td>\n",
       "                        <td id=\"T_2fa4be34_dc66_11ea_ad85_8c1645e7f884row1_col2\" class=\"data row1 col2\" >25</td>\n",
       "                        <td id=\"T_2fa4be34_dc66_11ea_ad85_8c1645e7f884row1_col3\" class=\"data row1 col3\" >225</td>\n",
       "                        <td id=\"T_2fa4be34_dc66_11ea_ad85_8c1645e7f884row1_col4\" class=\"data row1 col4\" >18</td>\n",
       "            </tr>\n",
       "            <tr>\n",
       "                        <th id=\"T_2fa4be34_dc66_11ea_ad85_8c1645e7f884level0_row2\" class=\"row_heading level0 row2\" >2</th>\n",
       "                        <td id=\"T_2fa4be34_dc66_11ea_ad85_8c1645e7f884row2_col0\" class=\"data row2 col0\" >C</td>\n",
       "                        <td id=\"T_2fa4be34_dc66_11ea_ad85_8c1645e7f884row2_col1\" class=\"data row2 col1\" >100</td>\n",
       "                        <td id=\"T_2fa4be34_dc66_11ea_ad85_8c1645e7f884row2_col2\" class=\"data row2 col2\" >500</td>\n",
       "                        <td id=\"T_2fa4be34_dc66_11ea_ad85_8c1645e7f884row2_col3\" class=\"data row2 col3\" >725</td>\n",
       "                        <td id=\"T_2fa4be34_dc66_11ea_ad85_8c1645e7f884row2_col4\" class=\"data row2 col4\" >0.2</td>\n",
       "            </tr>\n",
       "            <tr>\n",
       "                        <th id=\"T_2fa4be34_dc66_11ea_ad85_8c1645e7f884level0_row3\" class=\"row_heading level0 row3\" >3</th>\n",
       "                        <td id=\"T_2fa4be34_dc66_11ea_ad85_8c1645e7f884row3_col0\" class=\"data row3 col0\" >D</td>\n",
       "                        <td id=\"T_2fa4be34_dc66_11ea_ad85_8c1645e7f884row3_col1\" class=\"data row3 col1\" >200</td>\n",
       "                        <td id=\"T_2fa4be34_dc66_11ea_ad85_8c1645e7f884row3_col2\" class=\"data row3 col2\" >60</td>\n",
       "                        <td id=\"T_2fa4be34_dc66_11ea_ad85_8c1645e7f884row3_col3\" class=\"data row3 col3\" >785</td>\n",
       "                        <td id=\"T_2fa4be34_dc66_11ea_ad85_8c1645e7f884row3_col4\" class=\"data row3 col4\" >3.33333</td>\n",
       "            </tr>\n",
       "            <tr>\n",
       "                        <th id=\"T_2fa4be34_dc66_11ea_ad85_8c1645e7f884level0_row4\" class=\"row_heading level0 row4\" >4</th>\n",
       "                        <td id=\"T_2fa4be34_dc66_11ea_ad85_8c1645e7f884row4_col0\" class=\"data row4 col0\" >E</td>\n",
       "                        <td id=\"T_2fa4be34_dc66_11ea_ad85_8c1645e7f884row4_col1\" class=\"data row4 col1\" >150</td>\n",
       "                        <td id=\"T_2fa4be34_dc66_11ea_ad85_8c1645e7f884row4_col2\" class=\"data row4 col2\" >100</td>\n",
       "                        <td id=\"T_2fa4be34_dc66_11ea_ad85_8c1645e7f884row4_col3\" class=\"data row4 col3\" >885</td>\n",
       "                        <td id=\"T_2fa4be34_dc66_11ea_ad85_8c1645e7f884row4_col4\" class=\"data row4 col4\" >1.5</td>\n",
       "            </tr>\n",
       "            <tr>\n",
       "                        <th id=\"T_2fa4be34_dc66_11ea_ad85_8c1645e7f884level0_row5\" class=\"row_heading level0 row5\" >5</th>\n",
       "                        <td id=\"T_2fa4be34_dc66_11ea_ad85_8c1645e7f884row5_col0\" class=\"data row5 col0\" >F</td>\n",
       "                        <td id=\"T_2fa4be34_dc66_11ea_ad85_8c1645e7f884row5_col1\" class=\"data row5 col1\" >120</td>\n",
       "                        <td id=\"T_2fa4be34_dc66_11ea_ad85_8c1645e7f884row5_col2\" class=\"data row5 col2\" >15</td>\n",
       "                        <td id=\"T_2fa4be34_dc66_11ea_ad85_8c1645e7f884row5_col3\" class=\"data row5 col3\" >900</td>\n",
       "                        <td id=\"T_2fa4be34_dc66_11ea_ad85_8c1645e7f884row5_col4\" class=\"data row5 col4\" >8</td>\n",
       "            </tr>\n",
       "    </tbody></table>"
      ],
      "text/plain": [
       "<pandas.io.formats.style.Styler at 0x21c4ef49cf8>"
      ]
     },
     "execution_count": 2,
     "metadata": {},
     "output_type": "execute_result"
    }
   ],
   "source": [
    "total=int(input('Total Shares of Company: '))\n",
    "data=pd.DataFrame()\n",
    "beg=total\n",
    "investors=int(input('Enter the number of Investors: '))\n",
    "test_list = [chr(x) for x in range(ord('A'), ord('Z') + 1)]   \n",
    "x=[]\n",
    "for i in range (investors):\n",
    "    x.append(test_list[i])   \n",
    "data['Bidder']=x\n",
    "\n",
    "bids=print('Enter the Bids (in $): ')\n",
    "y=input().split()\n",
    "y=[int(v) for v in y]\n",
    "data['Bid ($)']=y\n",
    "\n",
    "shares=print('Enter the Shares (in $): ')\n",
    "z=input().split()\n",
    "z=[int(u) for u in z]\n",
    "data['Quantity (shares)']=z\n",
    "\n",
    "w=data['Quantity (shares)'].cumsum()\n",
    "data['Cummulative (shares)']=w\n",
    "\n",
    "data['Price for each share ($)']=data['Bid ($)']/data['Quantity (shares)']\n",
    "cm = sns.light_palette(\"palegreen\", as_cmap=True)\n",
    "s = data.style.background_gradient(cmap=cm)\n",
    "s"
   ]
  },
  {
   "cell_type": "markdown",
   "metadata": {},
   "source": [
    "## <span style='background :paleturquoise'><span style='font-family:\"Times New Roman\"'>Priority Order for Investors</span>"
   ]
  },
  {
   "cell_type": "code",
   "execution_count": 12,
   "metadata": {},
   "outputs": [
    {
     "data": {
      "text/html": [
       "<style  type=\"text/css\" >\n",
       "    #T_d8c1a73a_dc66_11ea_98fd_8c1645e7f884row0_col1 {\n",
       "            background-color:  #afeeee;\n",
       "            color:  #000000;\n",
       "        }    #T_d8c1a73a_dc66_11ea_98fd_8c1645e7f884row0_col2 {\n",
       "            background-color:  #e9fafa;\n",
       "            color:  #000000;\n",
       "        }    #T_d8c1a73a_dc66_11ea_98fd_8c1645e7f884row0_col3 {\n",
       "            background-color:  #e8fafa;\n",
       "            color:  #000000;\n",
       "        }    #T_d8c1a73a_dc66_11ea_98fd_8c1645e7f884row0_col4 {\n",
       "            background-color:  #afeeee;\n",
       "            color:  #000000;\n",
       "        }    #T_d8c1a73a_dc66_11ea_98fd_8c1645e7f884row1_col1 {\n",
       "            background-color:  #e7fafa;\n",
       "            color:  #000000;\n",
       "        }    #T_d8c1a73a_dc66_11ea_98fd_8c1645e7f884row1_col2 {\n",
       "            background-color:  #eafbfb;\n",
       "            color:  #000000;\n",
       "        }    #T_d8c1a73a_dc66_11ea_98fd_8c1645e7f884row1_col3 {\n",
       "            background-color:  #afeeee;\n",
       "            color:  #000000;\n",
       "        }    #T_d8c1a73a_dc66_11ea_98fd_8c1645e7f884row1_col4 {\n",
       "            background-color:  #d0f5f5;\n",
       "            color:  #000000;\n",
       "        }    #T_d8c1a73a_dc66_11ea_98fd_8c1645e7f884row2_col1 {\n",
       "            background-color:  #d9f7f7;\n",
       "            color:  #000000;\n",
       "        }    #T_d8c1a73a_dc66_11ea_98fd_8c1645e7f884row2_col2 {\n",
       "            background-color:  #e5f9f9;\n",
       "            color:  #000000;\n",
       "        }    #T_d8c1a73a_dc66_11ea_98fd_8c1645e7f884row2_col3 {\n",
       "            background-color:  #b9f0f0;\n",
       "            color:  #000000;\n",
       "        }    #T_d8c1a73a_dc66_11ea_98fd_8c1645e7f884row2_col4 {\n",
       "            background-color:  #e0f8f8;\n",
       "            color:  #000000;\n",
       "        }    #T_d8c1a73a_dc66_11ea_98fd_8c1645e7f884row3_col1 {\n",
       "            background-color:  #c8f3f3;\n",
       "            color:  #000000;\n",
       "        }    #T_d8c1a73a_dc66_11ea_98fd_8c1645e7f884row3_col2 {\n",
       "            background-color:  #d4f6f6;\n",
       "            color:  #000000;\n",
       "        }    #T_d8c1a73a_dc66_11ea_98fd_8c1645e7f884row3_col3 {\n",
       "            background-color:  #eafbfb;\n",
       "            color:  #000000;\n",
       "        }    #T_d8c1a73a_dc66_11ea_98fd_8c1645e7f884row3_col4 {\n",
       "            background-color:  #e6fafa;\n",
       "            color:  #000000;\n",
       "        }    #T_d8c1a73a_dc66_11ea_98fd_8c1645e7f884row4_col1 {\n",
       "            background-color:  #e2f9f9;\n",
       "            color:  #000000;\n",
       "        }    #T_d8c1a73a_dc66_11ea_98fd_8c1645e7f884row4_col2 {\n",
       "            background-color:  #e0f8f8;\n",
       "            color:  #000000;\n",
       "        }    #T_d8c1a73a_dc66_11ea_98fd_8c1645e7f884row4_col3 {\n",
       "            background-color:  #b0eeee;\n",
       "            color:  #000000;\n",
       "        }    #T_d8c1a73a_dc66_11ea_98fd_8c1645e7f884row4_col4 {\n",
       "            background-color:  #e6fafa;\n",
       "            color:  #000000;\n",
       "        }    #T_d8c1a73a_dc66_11ea_98fd_8c1645e7f884row5_col1 {\n",
       "            background-color:  #eafbfb;\n",
       "            color:  #000000;\n",
       "        }    #T_d8c1a73a_dc66_11ea_98fd_8c1645e7f884row5_col2 {\n",
       "            background-color:  #afeeee;\n",
       "            color:  #000000;\n",
       "        }    #T_d8c1a73a_dc66_11ea_98fd_8c1645e7f884row5_col3 {\n",
       "            background-color:  #bef1f1;\n",
       "            color:  #000000;\n",
       "        }    #T_d8c1a73a_dc66_11ea_98fd_8c1645e7f884row5_col4 {\n",
       "            background-color:  #eafbfb;\n",
       "            color:  #000000;\n",
       "        }</style><table id=\"T_d8c1a73a_dc66_11ea_98fd_8c1645e7f884\" ><thead>    <tr>        <th class=\"blank level0\" ></th>        <th class=\"col_heading level0 col0\" >Bidder</th>        <th class=\"col_heading level0 col1\" >Bid ($)</th>        <th class=\"col_heading level0 col2\" >Quantity (shares)</th>        <th class=\"col_heading level0 col3\" >Cummulative (shares)</th>        <th class=\"col_heading level0 col4\" >Price for each share ($)</th>    </tr></thead><tbody>\n",
       "                <tr>\n",
       "                        <th id=\"T_d8c1a73a_dc66_11ea_98fd_8c1645e7f884level0_row0\" class=\"row_heading level0 row0\" >0</th>\n",
       "                        <td id=\"T_d8c1a73a_dc66_11ea_98fd_8c1645e7f884row0_col0\" class=\"data row0 col0\" >B</td>\n",
       "                        <td id=\"T_d8c1a73a_dc66_11ea_98fd_8c1645e7f884row0_col1\" class=\"data row0 col1\" >450</td>\n",
       "                        <td id=\"T_d8c1a73a_dc66_11ea_98fd_8c1645e7f884row0_col2\" class=\"data row0 col2\" >25</td>\n",
       "                        <td id=\"T_d8c1a73a_dc66_11ea_98fd_8c1645e7f884row0_col3\" class=\"data row0 col3\" >225</td>\n",
       "                        <td id=\"T_d8c1a73a_dc66_11ea_98fd_8c1645e7f884row0_col4\" class=\"data row0 col4\" >18</td>\n",
       "            </tr>\n",
       "            <tr>\n",
       "                        <th id=\"T_d8c1a73a_dc66_11ea_98fd_8c1645e7f884level0_row1\" class=\"row_heading level0 row1\" >1</th>\n",
       "                        <td id=\"T_d8c1a73a_dc66_11ea_98fd_8c1645e7f884row1_col0\" class=\"data row1 col0\" >F</td>\n",
       "                        <td id=\"T_d8c1a73a_dc66_11ea_98fd_8c1645e7f884row1_col1\" class=\"data row1 col1\" >120</td>\n",
       "                        <td id=\"T_d8c1a73a_dc66_11ea_98fd_8c1645e7f884row1_col2\" class=\"data row1 col2\" >15</td>\n",
       "                        <td id=\"T_d8c1a73a_dc66_11ea_98fd_8c1645e7f884row1_col3\" class=\"data row1 col3\" >900</td>\n",
       "                        <td id=\"T_d8c1a73a_dc66_11ea_98fd_8c1645e7f884row1_col4\" class=\"data row1 col4\" >8</td>\n",
       "            </tr>\n",
       "            <tr>\n",
       "                        <th id=\"T_d8c1a73a_dc66_11ea_98fd_8c1645e7f884level0_row2\" class=\"row_heading level0 row2\" >2</th>\n",
       "                        <td id=\"T_d8c1a73a_dc66_11ea_98fd_8c1645e7f884row2_col0\" class=\"data row2 col0\" >D</td>\n",
       "                        <td id=\"T_d8c1a73a_dc66_11ea_98fd_8c1645e7f884row2_col1\" class=\"data row2 col1\" >200</td>\n",
       "                        <td id=\"T_d8c1a73a_dc66_11ea_98fd_8c1645e7f884row2_col2\" class=\"data row2 col2\" >60</td>\n",
       "                        <td id=\"T_d8c1a73a_dc66_11ea_98fd_8c1645e7f884row2_col3\" class=\"data row2 col3\" >785</td>\n",
       "                        <td id=\"T_d8c1a73a_dc66_11ea_98fd_8c1645e7f884row2_col4\" class=\"data row2 col4\" >3.33333</td>\n",
       "            </tr>\n",
       "            <tr>\n",
       "                        <th id=\"T_d8c1a73a_dc66_11ea_98fd_8c1645e7f884level0_row3\" class=\"row_heading level0 row3\" >3</th>\n",
       "                        <td id=\"T_d8c1a73a_dc66_11ea_98fd_8c1645e7f884row3_col0\" class=\"data row3 col0\" >A</td>\n",
       "                        <td id=\"T_d8c1a73a_dc66_11ea_98fd_8c1645e7f884row3_col1\" class=\"data row3 col1\" >300</td>\n",
       "                        <td id=\"T_d8c1a73a_dc66_11ea_98fd_8c1645e7f884row3_col2\" class=\"data row3 col2\" >200</td>\n",
       "                        <td id=\"T_d8c1a73a_dc66_11ea_98fd_8c1645e7f884row3_col3\" class=\"data row3 col3\" >200</td>\n",
       "                        <td id=\"T_d8c1a73a_dc66_11ea_98fd_8c1645e7f884row3_col4\" class=\"data row3 col4\" >1.5</td>\n",
       "            </tr>\n",
       "            <tr>\n",
       "                        <th id=\"T_d8c1a73a_dc66_11ea_98fd_8c1645e7f884level0_row4\" class=\"row_heading level0 row4\" >4</th>\n",
       "                        <td id=\"T_d8c1a73a_dc66_11ea_98fd_8c1645e7f884row4_col0\" class=\"data row4 col0\" >E</td>\n",
       "                        <td id=\"T_d8c1a73a_dc66_11ea_98fd_8c1645e7f884row4_col1\" class=\"data row4 col1\" >150</td>\n",
       "                        <td id=\"T_d8c1a73a_dc66_11ea_98fd_8c1645e7f884row4_col2\" class=\"data row4 col2\" >100</td>\n",
       "                        <td id=\"T_d8c1a73a_dc66_11ea_98fd_8c1645e7f884row4_col3\" class=\"data row4 col3\" >885</td>\n",
       "                        <td id=\"T_d8c1a73a_dc66_11ea_98fd_8c1645e7f884row4_col4\" class=\"data row4 col4\" >1.5</td>\n",
       "            </tr>\n",
       "            <tr>\n",
       "                        <th id=\"T_d8c1a73a_dc66_11ea_98fd_8c1645e7f884level0_row5\" class=\"row_heading level0 row5\" >5</th>\n",
       "                        <td id=\"T_d8c1a73a_dc66_11ea_98fd_8c1645e7f884row5_col0\" class=\"data row5 col0\" >C</td>\n",
       "                        <td id=\"T_d8c1a73a_dc66_11ea_98fd_8c1645e7f884row5_col1\" class=\"data row5 col1\" >100</td>\n",
       "                        <td id=\"T_d8c1a73a_dc66_11ea_98fd_8c1645e7f884row5_col2\" class=\"data row5 col2\" >500</td>\n",
       "                        <td id=\"T_d8c1a73a_dc66_11ea_98fd_8c1645e7f884row5_col3\" class=\"data row5 col3\" >725</td>\n",
       "                        <td id=\"T_d8c1a73a_dc66_11ea_98fd_8c1645e7f884row5_col4\" class=\"data row5 col4\" >0.2</td>\n",
       "            </tr>\n",
       "    </tbody></table>"
      ],
      "text/plain": [
       "<pandas.io.formats.style.Styler at 0x21c4efc9f28>"
      ]
     },
     "execution_count": 12,
     "metadata": {},
     "output_type": "execute_result"
    }
   ],
   "source": [
    "data1=pd.DataFrame()\n",
    "data1=data.sort_values(by=['Price for each share ($)'],ascending=False)\n",
    "data1 = data1.reset_index(drop=True)\n",
    "cm = sns.light_palette(\"paleturquoise\", as_cmap=True)\n",
    "s1 = data1.style.background_gradient(cmap=cm)\n",
    "s1"
   ]
  },
  {
   "cell_type": "markdown",
   "metadata": {},
   "source": [
    "## <span style='background :khaki'><span style='font-family:\"Times New Roman\"'>Listing of Shares</span>"
   ]
  },
  {
   "cell_type": "code",
   "execution_count": 17,
   "metadata": {},
   "outputs": [
    {
     "name": "stdout",
     "output_type": "stream",
     "text": [
      "Shares will be allocated to following investors at 0.2 $ per share\n",
      "B F D A E "
     ]
    }
   ],
   "source": [
    "m=[]\n",
    "total=beg\n",
    "for i in range (investors):\n",
    "    if(total>=data1['Quantity (shares)'].loc[i] and total>=0):\n",
    "        m.append(data1['Bidder'].loc[i])\n",
    "        total-=data1['Quantity (shares)'].loc[i]\n",
    "    else:\n",
    "        break\n",
    "\n",
    "print('Shares will be allocated to following investors at',data['Price for each share ($)'].min(),'$ per share')\n",
    "for g in m:\n",
    "    print(g,end=\" \")"
   ]
  },
  {
   "cell_type": "code",
   "execution_count": 15,
   "metadata": {},
   "outputs": [
    {
     "data": {
      "text/plain": [
       "400"
      ]
     },
     "execution_count": 15,
     "metadata": {},
     "output_type": "execute_result"
    }
   ],
   "source": [
    "data1['Quantity (shares)'].loc[:4].sum()"
   ]
  },
  {
   "cell_type": "markdown",
   "metadata": {},
   "source": [
    "## <span style='background :khaki'><span style='font-family:\"Times New Roman\"'>Total Money Raised in $</span>"
   ]
  },
  {
   "cell_type": "code",
   "execution_count": 16,
   "metadata": {},
   "outputs": [
    {
     "name": "stdout",
     "output_type": "stream",
     "text": [
      "80.0\n"
     ]
    }
   ],
   "source": [
    "print((beg-total)*data['Price for each share ($)'].min())"
   ]
  },
  {
   "cell_type": "code",
   "execution_count": null,
   "metadata": {},
   "outputs": [],
   "source": []
  },
  {
   "cell_type": "code",
   "execution_count": null,
   "metadata": {},
   "outputs": [],
   "source": []
  }
 ],
 "metadata": {
  "kernelspec": {
   "display_name": "Python 3",
   "language": "python",
   "name": "python3"
  },
  "language_info": {
   "codemirror_mode": {
    "name": "ipython",
    "version": 3
   },
   "file_extension": ".py",
   "mimetype": "text/x-python",
   "name": "python",
   "nbconvert_exporter": "python",
   "pygments_lexer": "ipython3",
   "version": "3.7.3"
  }
 },
 "nbformat": 4,
 "nbformat_minor": 2
}
