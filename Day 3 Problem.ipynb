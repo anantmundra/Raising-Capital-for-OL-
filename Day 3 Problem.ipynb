{
 "cells": [
  {
   "cell_type": "markdown",
   "metadata": {},
   "source": [
    "# <span style='background :beige'><span style='font-family:\"Times New Roman\"'>Q3.You are tasked to chose an efficient Capital raising approach,  which would result in an efficient price discovery mechanism for raising Equity Capital. </span> "
   ]
  },
  {
   "cell_type": "markdown",
   "metadata": {},
   "source": [
    "## <span style='background :paleturquoise'><span style='font-family:\"Times New Roman\"'>Importing Necessary Libraries</span> "
   ]
  },
  {
   "cell_type": "code",
   "execution_count": 37,
   "metadata": {},
   "outputs": [],
   "source": [
    "import pandas as pd\n",
    "import matplotlib.pyplot as plt\n",
    "import seaborn as sns\n",
    "sns.set()"
   ]
  },
  {
   "cell_type": "markdown",
   "metadata": {},
   "source": [
    "![](Necessary_Files/debtequity.png)"
   ]
  },
  {
   "cell_type": "markdown",
   "metadata": {},
   "source": [
    "# <span style='background :palegreen'><span style='font-family:\"Times New Roman\"'>Initial Coin Offering</span> \n",
    "## http://www.finsmes.com/2019/02/ico-pros-and-cons-is-it-worth-the-hype.html    "
   ]
  },
  {
   "cell_type": "code",
   "execution_count": 36,
   "metadata": {},
   "outputs": [
    {
     "data": {
      "text/html": [
       "<div>\n",
       "<style scoped>\n",
       "    .dataframe tbody tr th:only-of-type {\n",
       "        vertical-align: middle;\n",
       "    }\n",
       "\n",
       "    .dataframe tbody tr th {\n",
       "        vertical-align: top;\n",
       "    }\n",
       "\n",
       "    .dataframe thead th {\n",
       "        text-align: right;\n",
       "    }\n",
       "</style>\n",
       "<table border=\"1\" class=\"dataframe\">\n",
       "  <thead>\n",
       "    <tr style=\"text-align: right;\">\n",
       "      <th></th>\n",
       "      <th>PROS</th>\n",
       "      <th>CONS</th>\n",
       "    </tr>\n",
       "  </thead>\n",
       "  <tbody>\n",
       "    <tr>\n",
       "      <th>0</th>\n",
       "      <td>Readily accessible for investors &amp; startup com...</td>\n",
       "      <td>Volatile</td>\n",
       "    </tr>\n",
       "    <tr>\n",
       "      <th>1</th>\n",
       "      <td>Accessible online</td>\n",
       "      <td>A Potential Fraud</td>\n",
       "    </tr>\n",
       "    <tr>\n",
       "      <th>2</th>\n",
       "      <td>High liquidity</td>\n",
       "      <td>May lack accountability</td>\n",
       "    </tr>\n",
       "    <tr>\n",
       "      <th>3</th>\n",
       "      <td>Less paperwork</td>\n",
       "      <td>There is little to no regulation</td>\n",
       "    </tr>\n",
       "    <tr>\n",
       "      <th>4</th>\n",
       "      <td>High return of investment</td>\n",
       "      <td>Public reputation may be harmed if the ICO fails</td>\n",
       "    </tr>\n",
       "  </tbody>\n",
       "</table>\n",
       "</div>"
      ],
      "text/plain": [
       "                                                PROS  \\\n",
       "0  Readily accessible for investors & startup com...   \n",
       "1                                  Accessible online   \n",
       "2                                     High liquidity   \n",
       "3                                     Less paperwork   \n",
       "4                          High return of investment   \n",
       "\n",
       "                                               CONS  \n",
       "0                                          Volatile  \n",
       "1                                 A Potential Fraud  \n",
       "2                           May lack accountability  \n",
       "3                  There is little to no regulation  \n",
       "4  Public reputation may be harmed if the ICO fails  "
      ]
     },
     "execution_count": 36,
     "metadata": {},
     "output_type": "execute_result"
    }
   ],
   "source": [
    "data1=pd.DataFrame()\n",
    "data1['PROS']=['Readily accessible for investors & startup companies.','Accessible online','High liquidity','Less paperwork','High return of investment']\n",
    "data1['CONS']=['Volatile','A Potential Fraud','May lack accountability','There is little to no regulation','Public reputation may be harmed if the ICO fails']\n",
    "data1"
   ]
  },
  {
   "cell_type": "markdown",
   "metadata": {},
   "source": [
    "![](Necessary_Files/ico.png)"
   ]
  },
  {
   "cell_type": "markdown",
   "metadata": {},
   "source": [
    "# <span style='background :palegreen'><span style='font-family:\"Times New Roman\"'>Dutch Auction System</span> "
   ]
  },
  {
   "cell_type": "markdown",
   "metadata": {},
   "source": [
    "### 1. A Dutch Auction allows small investors to take part in the offering.\n",
    "### 2. A Dutch Auction is also supposed to minimize the difference between offering and actual listing prices.\n",
    "### 3. Dutch Auction prices are set by a fairer and more transparent method in which an array of bids from multiple types of customers are invited.    \n",
    "### 4. Because the auction is open to investors of all stripes, there is danger that they may perform less rigorous analysis as compared to investment bankers and come with a price estimate that may not accurately reflect the company's prospects.\n",
    "### 5. Another drawback of Dutch Auctions is known as \"winner's curse\". In this, a stock's price may crash immediately after listing when investors, who had bid a higher price earlier, realize that they may have miscalculated or overbid. \n",
    "![](Necessary_Files/dutch_auction.png)"
   ]
  },
  {
   "cell_type": "markdown",
   "metadata": {},
   "source": [
    "# <span style='background :palegreen'><span style='font-family:\"Times New Roman\"'>Direct Listing in the exchanges</span> "
   ]
  },
  {
   "cell_type": "markdown",
   "metadata": {},
   "source": [
    "### 1. By going public the company provides liquidity for existing shareholders by allowing them to freely sell their shares in the public market.\n",
    "### 2. The cost of the process is much lower than the cost of an IPO.\n",
    "### 3. Direct listing helps companies avoid hefty fees paid to investment banks. It also helps them avoid the indirect cost of selling the stocks at a discount.   \n",
    "### 4. Since direct listing does not use investment banks to underwrite the stocks, there is often more initial volatility. The availability of stock depends on current employees and investors.\n",
    "### 5.The company isn't raising any additional capital. “Typically, going public offers a great opportunity to raise money for the business, so companies miss out on that chance when they do a direct listing.."
   ]
  },
  {
   "cell_type": "markdown",
   "metadata": {},
   "source": [
    "## <span style='background :paleturquoise'><span style='font-family:\"Times New Roman\"'>General Statistics</span> "
   ]
  },
  {
   "cell_type": "code",
   "execution_count": 31,
   "metadata": {},
   "outputs": [
    {
     "data": {
      "text/html": [
       "<div>\n",
       "<style scoped>\n",
       "    .dataframe tbody tr th:only-of-type {\n",
       "        vertical-align: middle;\n",
       "    }\n",
       "\n",
       "    .dataframe tbody tr th {\n",
       "        vertical-align: top;\n",
       "    }\n",
       "\n",
       "    .dataframe thead th {\n",
       "        text-align: right;\n",
       "    }\n",
       "</style>\n",
       "<table border=\"1\" class=\"dataframe\">\n",
       "  <thead>\n",
       "    <tr style=\"text-align: right;\">\n",
       "      <th></th>\n",
       "      <th>Rank Choice</th>\n",
       "      <th>Summary 1</th>\n",
       "      <th>Summary 2</th>\n",
       "      <th>Summary 3</th>\n",
       "    </tr>\n",
       "  </thead>\n",
       "  <tbody>\n",
       "    <tr>\n",
       "      <th>0</th>\n",
       "      <td>Initial Coin Offering</td>\n",
       "      <td>In 2017: 435 successful ICOs</td>\n",
       "      <td>Each raising an average of $12.7 million</td>\n",
       "      <td>Tokens purchased returned an average of 12.8x ($)</td>\n",
       "    </tr>\n",
       "    <tr>\n",
       "      <th>1</th>\n",
       "      <td>Dutch Auction System</td>\n",
       "      <td>In 2004: Google organized Dutch Auction</td>\n",
       "      <td>Google managed to raise $1.67 billion</td>\n",
       "      <td></td>\n",
       "    </tr>\n",
       "    <tr>\n",
       "      <th>2</th>\n",
       "      <td>Direct Listing in the Exchanges</td>\n",
       "      <td>In 2017: 153 successful IPOs</td>\n",
       "      <td>Each raising an average of $75.8 million</td>\n",
       "      <td>47% absolute return (sum up all the IPOs return)</td>\n",
       "    </tr>\n",
       "  </tbody>\n",
       "</table>\n",
       "</div>"
      ],
      "text/plain": [
       "                       Rank Choice                                Summary 1  \\\n",
       "0            Initial Coin Offering             In 2017: 435 successful ICOs   \n",
       "1             Dutch Auction System  In 2004: Google organized Dutch Auction   \n",
       "2  Direct Listing in the Exchanges             In 2017: 153 successful IPOs   \n",
       "\n",
       "                                  Summary 2  \\\n",
       "0  Each raising an average of $12.7 million   \n",
       "1     Google managed to raise $1.67 billion   \n",
       "2  Each raising an average of $75.8 million   \n",
       "\n",
       "                                           Summary 3  \n",
       "0  Tokens purchased returned an average of 12.8x ($)  \n",
       "1                                                     \n",
       "2   47% absolute return (sum up all the IPOs return)  "
      ]
     },
     "execution_count": 31,
     "metadata": {},
     "output_type": "execute_result"
    }
   ],
   "source": [
    "data3=pd.DataFrame()\n",
    "data3['Rank Choice']=['Initial Coin Offering','Dutch Auction System','Direct Listing in the Exchanges']\n",
    "data3['Summary 1']=['In 2017: 435 successful ICOs','In 2004: Google organized Dutch Auction','In 2017: 153 successful IPOs']\n",
    "data3['Summary 2']=['Each raising an average of $12.7 million','Google managed to raise $1.67 billion','Each raising an average of $75.8 million']\n",
    "data3['Summary 3']=['Tokens purchased returned an average of 12.8x ($)','','47% absolute return (sum up all the IPOs return)']\n",
    "data3"
   ]
  },
  {
   "cell_type": "code",
   "execution_count": 3,
   "metadata": {},
   "outputs": [],
   "source": [
    "# 435*12.7$==$5.52 billion\n",
    "# 6 lakh cryptocurrency Users in India\n",
    "# 153*75.8$==$11.59 billion"
   ]
  },
  {
   "cell_type": "markdown",
   "metadata": {},
   "source": [
    "## <span style='background :wheat'><span style='font-family:\"Times New Roman\"'>Ranking Efficient Capital raising approach</span> "
   ]
  },
  {
   "cell_type": "code",
   "execution_count": 30,
   "metadata": {},
   "outputs": [
    {
     "data": {
      "text/html": [
       "<style  type=\"text/css\" >\n",
       "    #T_c71fd63a_dba0_11ea_bce9_30d16bfa037arow0_col1 {\n",
       "            background-color:  #f6f0ba;\n",
       "            color:  #000000;\n",
       "        }    #T_c71fd63a_dba0_11ea_bce9_30d16bfa037arow0_col2 {\n",
       "            background-color:  #f0e68c;\n",
       "            color:  #000000;\n",
       "        }    #T_c71fd63a_dba0_11ea_bce9_30d16bfa037arow0_col3 {\n",
       "            background-color:  #f0e68c;\n",
       "            color:  #000000;\n",
       "        }    #T_c71fd63a_dba0_11ea_bce9_30d16bfa037arow1_col1 {\n",
       "            background-color:  #fcfae8;\n",
       "            color:  #000000;\n",
       "        }    #T_c71fd63a_dba0_11ea_bce9_30d16bfa037arow1_col2 {\n",
       "            background-color:  #f6f0ba;\n",
       "            color:  #000000;\n",
       "        }    #T_c71fd63a_dba0_11ea_bce9_30d16bfa037arow1_col3 {\n",
       "            background-color:  #f6f0ba;\n",
       "            color:  #000000;\n",
       "        }    #T_c71fd63a_dba0_11ea_bce9_30d16bfa037arow2_col1 {\n",
       "            background-color:  #f0e68c;\n",
       "            color:  #000000;\n",
       "        }    #T_c71fd63a_dba0_11ea_bce9_30d16bfa037arow2_col2 {\n",
       "            background-color:  #fcfae8;\n",
       "            color:  #000000;\n",
       "        }    #T_c71fd63a_dba0_11ea_bce9_30d16bfa037arow2_col3 {\n",
       "            background-color:  #fcfae8;\n",
       "            color:  #000000;\n",
       "        }</style><table id=\"T_c71fd63a_dba0_11ea_bce9_30d16bfa037a\" ><thead>    <tr>        <th class=\"blank level0\" ></th>        <th class=\"col_heading level0 col0\" >Rank Choice</th>        <th class=\"col_heading level0 col1\" >Efficiency</th>        <th class=\"col_heading level0 col2\" >Market Acceptability</th>        <th class=\"col_heading level0 col3\" >Liquidity</th>    </tr></thead><tbody>\n",
       "                <tr>\n",
       "                        <th id=\"T_c71fd63a_dba0_11ea_bce9_30d16bfa037alevel0_row0\" class=\"row_heading level0 row0\" >0</th>\n",
       "                        <td id=\"T_c71fd63a_dba0_11ea_bce9_30d16bfa037arow0_col0\" class=\"data row0 col0\" >Initial Coin Offering</td>\n",
       "                        <td id=\"T_c71fd63a_dba0_11ea_bce9_30d16bfa037arow0_col1\" class=\"data row0 col1\" >2</td>\n",
       "                        <td id=\"T_c71fd63a_dba0_11ea_bce9_30d16bfa037arow0_col2\" class=\"data row0 col2\" >3</td>\n",
       "                        <td id=\"T_c71fd63a_dba0_11ea_bce9_30d16bfa037arow0_col3\" class=\"data row0 col3\" >3</td>\n",
       "            </tr>\n",
       "            <tr>\n",
       "                        <th id=\"T_c71fd63a_dba0_11ea_bce9_30d16bfa037alevel0_row1\" class=\"row_heading level0 row1\" >1</th>\n",
       "                        <td id=\"T_c71fd63a_dba0_11ea_bce9_30d16bfa037arow1_col0\" class=\"data row1 col0\" >Dutch Action System</td>\n",
       "                        <td id=\"T_c71fd63a_dba0_11ea_bce9_30d16bfa037arow1_col1\" class=\"data row1 col1\" >1</td>\n",
       "                        <td id=\"T_c71fd63a_dba0_11ea_bce9_30d16bfa037arow1_col2\" class=\"data row1 col2\" >2</td>\n",
       "                        <td id=\"T_c71fd63a_dba0_11ea_bce9_30d16bfa037arow1_col3\" class=\"data row1 col3\" >2</td>\n",
       "            </tr>\n",
       "            <tr>\n",
       "                        <th id=\"T_c71fd63a_dba0_11ea_bce9_30d16bfa037alevel0_row2\" class=\"row_heading level0 row2\" >2</th>\n",
       "                        <td id=\"T_c71fd63a_dba0_11ea_bce9_30d16bfa037arow2_col0\" class=\"data row2 col0\" >Direct Listing in the exchanges</td>\n",
       "                        <td id=\"T_c71fd63a_dba0_11ea_bce9_30d16bfa037arow2_col1\" class=\"data row2 col1\" >3</td>\n",
       "                        <td id=\"T_c71fd63a_dba0_11ea_bce9_30d16bfa037arow2_col2\" class=\"data row2 col2\" >1</td>\n",
       "                        <td id=\"T_c71fd63a_dba0_11ea_bce9_30d16bfa037arow2_col3\" class=\"data row2 col3\" >1</td>\n",
       "            </tr>\n",
       "    </tbody></table>"
      ],
      "text/plain": [
       "<pandas.io.formats.style.Styler at 0x2517666a4a8>"
      ]
     },
     "execution_count": 30,
     "metadata": {},
     "output_type": "execute_result"
    }
   ],
   "source": [
    "data4=pd.DataFrame()\n",
    "data4['Rank Choice']=['Initial Coin Offering','Dutch Action System','Direct Listing in the exchanges'] \n",
    "data4['Efficiency']=[2,1,3]\n",
    "data4['Market Acceptability']=[3,2,1]\n",
    "data4['Liquidity']=[3,2,1]\n",
    "cm = sns.light_palette(\"khaki\", as_cmap=True)\n",
    "s = data4.style.background_gradient(cmap=cm)\n",
    "s"
   ]
  },
  {
   "cell_type": "code",
   "execution_count": null,
   "metadata": {},
   "outputs": [],
   "source": []
  },
  {
   "cell_type": "code",
   "execution_count": null,
   "metadata": {},
   "outputs": [],
   "source": []
  }
 ],
 "metadata": {
  "kernelspec": {
   "display_name": "Python 3",
   "language": "python",
   "name": "python3"
  },
  "language_info": {
   "codemirror_mode": {
    "name": "ipython",
    "version": 3
   },
   "file_extension": ".py",
   "mimetype": "text/x-python",
   "name": "python",
   "nbconvert_exporter": "python",
   "pygments_lexer": "ipython3",
   "version": "3.7.3"
  }
 },
 "nbformat": 4,
 "nbformat_minor": 2
}
