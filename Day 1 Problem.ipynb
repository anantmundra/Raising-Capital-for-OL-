{
 "cells": [
  {
   "cell_type": "markdown",
   "metadata": {},
   "source": [
    "# <span style='background :beige'><span style='font-family:\"Times New Roman\"'>Q1. Determine the monthly operating cost of running the operations for OLA. </span> "
   ]
  },
  {
   "cell_type": "markdown",
   "metadata": {},
   "source": [
    "## <span style='background :paleturquoise'><span style='font-family:\"Times New Roman\"'>Importing Necessary Libraries</span> "
   ]
  },
  {
   "cell_type": "code",
   "execution_count": 1,
   "metadata": {},
   "outputs": [],
   "source": [
    "import pandas as pd\n",
    "import matplotlib.pyplot as plt\n",
    "import seaborn as sns\n",
    "sns.set()"
   ]
  },
  {
   "cell_type": "markdown",
   "metadata": {},
   "source": [
    "## <span style='background :palegreen'><span style='font-family:\"Times New Roman\"'>OLΛ Business Lines  🚗🐼💳</span> "
   ]
  },
  {
   "cell_type": "code",
   "execution_count": 2,
   "metadata": {},
   "outputs": [
    {
     "data": {
      "text/html": [
       "<div>\n",
       "<style scoped>\n",
       "    .dataframe tbody tr th:only-of-type {\n",
       "        vertical-align: middle;\n",
       "    }\n",
       "\n",
       "    .dataframe tbody tr th {\n",
       "        vertical-align: top;\n",
       "    }\n",
       "\n",
       "    .dataframe thead th {\n",
       "        text-align: right;\n",
       "    }\n",
       "</style>\n",
       "<table border=\"1\" class=\"dataframe\">\n",
       "  <thead>\n",
       "    <tr style=\"text-align: right;\">\n",
       "      <th></th>\n",
       "      <th>Business Lines</th>\n",
       "      <th>Featured</th>\n",
       "      <th>Summary</th>\n",
       "      <th>Count</th>\n",
       "    </tr>\n",
       "  </thead>\n",
       "  <tbody>\n",
       "    <tr>\n",
       "      <th>0</th>\n",
       "      <td>OLA Rides</td>\n",
       "      <td>Cabs/Autos/Bikes</td>\n",
       "      <td>City Taxi↔Outstation↔Rentals</td>\n",
       "      <td>15 lakh drivers</td>\n",
       "    </tr>\n",
       "    <tr>\n",
       "      <th>1</th>\n",
       "      <td>OLA Food Delivery</td>\n",
       "      <td>FoodPanda</td>\n",
       "      <td>Delivering Food App</td>\n",
       "      <td>1500 employees</td>\n",
       "    </tr>\n",
       "    <tr>\n",
       "      <th>2</th>\n",
       "      <td>OLA Financial Services</td>\n",
       "      <td>OLA Money</td>\n",
       "      <td>Bill Payments↔Online Shopping</td>\n",
       "      <td>150 million users</td>\n",
       "    </tr>\n",
       "  </tbody>\n",
       "</table>\n",
       "</div>"
      ],
      "text/plain": [
       "           Business Lines          Featured                        Summary  \\\n",
       "0               OLA Rides  Cabs/Autos/Bikes   City Taxi↔Outstation↔Rentals   \n",
       "1       OLA Food Delivery         FoodPanda            Delivering Food App   \n",
       "2  OLA Financial Services         OLA Money  Bill Payments↔Online Shopping   \n",
       "\n",
       "               Count  \n",
       "0    15 lakh drivers  \n",
       "1     1500 employees  \n",
       "2  150 million users  "
      ]
     },
     "execution_count": 2,
     "metadata": {},
     "output_type": "execute_result"
    }
   ],
   "source": [
    "data1=pd.DataFrame()\n",
    "data1['Business Lines']=['OLA Rides','OLA Food Delivery','OLA Financial Services']\n",
    "data1['Featured']=['Cabs/Autos/Bikes','FoodPanda','OLA Money']\n",
    "data1['Summary']=['City Taxi↔Outstation↔Rentals','Delivering Food App','Bill Payments↔Online Shopping']\n",
    "data1['Count']=['15 lakh drivers','1500 employees','150 million users']\n",
    "data1"
   ]
  },
  {
   "cell_type": "markdown",
   "metadata": {},
   "source": [
    "## <span style='background :palegreen'><span style='font-family:\"Times New Roman\"'>Countries of operations for OLΛ </span> "
   ]
  },
  {
   "cell_type": "code",
   "execution_count": 3,
   "metadata": {},
   "outputs": [
    {
     "data": {
      "text/html": [
       "<div>\n",
       "<style scoped>\n",
       "    .dataframe tbody tr th:only-of-type {\n",
       "        vertical-align: middle;\n",
       "    }\n",
       "\n",
       "    .dataframe tbody tr th {\n",
       "        vertical-align: top;\n",
       "    }\n",
       "\n",
       "    .dataframe thead th {\n",
       "        text-align: right;\n",
       "    }\n",
       "</style>\n",
       "<table border=\"1\" class=\"dataframe\">\n",
       "  <thead>\n",
       "    <tr style=\"text-align: right;\">\n",
       "      <th></th>\n",
       "      <th>Operating Countries</th>\n",
       "      <th>Launch Date</th>\n",
       "      <th>Number of Drivers</th>\n",
       "    </tr>\n",
       "  </thead>\n",
       "  <tbody>\n",
       "    <tr>\n",
       "      <th>0</th>\n",
       "      <td>India</td>\n",
       "      <td>December 2010</td>\n",
       "      <td>1500000</td>\n",
       "    </tr>\n",
       "    <tr>\n",
       "      <th>1</th>\n",
       "      <td>Australia</td>\n",
       "      <td>February 2018</td>\n",
       "      <td>75000</td>\n",
       "    </tr>\n",
       "    <tr>\n",
       "      <th>2</th>\n",
       "      <td>United Kingdom</td>\n",
       "      <td>August 2018</td>\n",
       "      <td>25000</td>\n",
       "    </tr>\n",
       "    <tr>\n",
       "      <th>3</th>\n",
       "      <td>New Zealand</td>\n",
       "      <td>November 2018</td>\n",
       "      <td>10000</td>\n",
       "    </tr>\n",
       "  </tbody>\n",
       "</table>\n",
       "</div>"
      ],
      "text/plain": [
       "  Operating Countries    Launch Date  Number of Drivers\n",
       "0               India  December 2010            1500000\n",
       "1           Australia  February 2018              75000\n",
       "2      United Kingdom    August 2018              25000\n",
       "3         New Zealand  November 2018              10000"
      ]
     },
     "execution_count": 3,
     "metadata": {},
     "output_type": "execute_result"
    }
   ],
   "source": [
    "data2=pd.DataFrame()\n",
    "data2['Operating Countries']=['India','Australia','United Kingdom','New Zealand']\n",
    "data2['Launch Date']=['December 2010','February 2018','August 2018','November 2018']\n",
    "data2['Number of Drivers']=[1500000,75000,25000,10000]\n",
    "data2"
   ]
  },
  {
   "cell_type": "markdown",
   "metadata": {},
   "source": [
    "# <span style='background :beige'><span style='font-family:\"Times New Roman\"'>OLΛ Cost Sructure</span> "
   ]
  },
  {
   "cell_type": "markdown",
   "metadata": {},
   "source": [
    "## <span style='background :paleTURQUOISE'><span style='font-family:\"Times New Roman\"'>OLΛ Rides 🚗🛺🏍️</span> "
   ]
  },
  {
   "cell_type": "code",
   "execution_count": 13,
   "metadata": {},
   "outputs": [
    {
     "data": {
      "text/html": [
       "<div>\n",
       "<style scoped>\n",
       "    .dataframe tbody tr th:only-of-type {\n",
       "        vertical-align: middle;\n",
       "    }\n",
       "\n",
       "    .dataframe tbody tr th {\n",
       "        vertical-align: top;\n",
       "    }\n",
       "\n",
       "    .dataframe thead th {\n",
       "        text-align: right;\n",
       "    }\n",
       "</style>\n",
       "<table border=\"1\" class=\"dataframe\">\n",
       "  <thead>\n",
       "    <tr style=\"text-align: right;\">\n",
       "      <th></th>\n",
       "      <th>Operating Cost Factors</th>\n",
       "      <th>Description</th>\n",
       "      <th>Summary</th>\n",
       "      <th>Total Expenses(in lakhs)</th>\n",
       "    </tr>\n",
       "  </thead>\n",
       "  <tbody>\n",
       "    <tr>\n",
       "      <th>0</th>\n",
       "      <td>Total Income</td>\n",
       "      <td>15 lakh drivers</td>\n",
       "      <td>1500₹ monthly</td>\n",
       "      <td>22500</td>\n",
       "    </tr>\n",
       "    <tr>\n",
       "      <th>1</th>\n",
       "      <td>Employees Salary</td>\n",
       "      <td>6000 employees</td>\n",
       "      <td>1 lakh ₹ salary</td>\n",
       "      <td>6000</td>\n",
       "    </tr>\n",
       "    <tr>\n",
       "      <th>2</th>\n",
       "      <td>Statutory Cost</td>\n",
       "      <td>Average Revenue ↔ 18515 lakhs</td>\n",
       "      <td>Tax ↔ 5555 lakhs</td>\n",
       "      <td>5555</td>\n",
       "    </tr>\n",
       "    <tr>\n",
       "      <th>3</th>\n",
       "      <td>Utility Cost (Electricity)</td>\n",
       "      <td>5000 kWh per month</td>\n",
       "      <td>5000 x 8.33 x 12 hours</td>\n",
       "      <td>5</td>\n",
       "    </tr>\n",
       "    <tr>\n",
       "      <th>4</th>\n",
       "      <td>Finance Cost</td>\n",
       "      <td>borrowing of money to build or purchase assets.</td>\n",
       "      <td>10.25 crores</td>\n",
       "      <td>1025</td>\n",
       "    </tr>\n",
       "    <tr>\n",
       "      <th>5</th>\n",
       "      <td>Other expenses</td>\n",
       "      <td>Phone Bills/Maintenance/Advertisement</td>\n",
       "      <td>250 crores</td>\n",
       "      <td>25000</td>\n",
       "    </tr>\n",
       "  </tbody>\n",
       "</table>\n",
       "</div>"
      ],
      "text/plain": [
       "       Operating Cost Factors  \\\n",
       "0                Total Income   \n",
       "1            Employees Salary   \n",
       "2              Statutory Cost   \n",
       "3  Utility Cost (Electricity)   \n",
       "4                Finance Cost   \n",
       "5              Other expenses   \n",
       "\n",
       "                                       Description                 Summary  \\\n",
       "0                                  15 lakh drivers           1500₹ monthly   \n",
       "1                                   6000 employees         1 lakh ₹ salary   \n",
       "2                    Average Revenue ↔ 18515 lakhs        Tax ↔ 5555 lakhs   \n",
       "3                               5000 kWh per month  5000 x 8.33 x 12 hours   \n",
       "4  borrowing of money to build or purchase assets.            10.25 crores   \n",
       "5            Phone Bills/Maintenance/Advertisement              250 crores   \n",
       "\n",
       "   Total Expenses(in lakhs)  \n",
       "0                     22500  \n",
       "1                      6000  \n",
       "2                      5555  \n",
       "3                         5  \n",
       "4                      1025  \n",
       "5                     25000  "
      ]
     },
     "execution_count": 13,
     "metadata": {},
     "output_type": "execute_result"
    }
   ],
   "source": [
    "data3=pd.DataFrame()\n",
    "data3['Operating Cost Factors']=['Total Income','Employees Salary','Statutory Cost','Utility Cost (Electricity)','Finance Cost','Other expenses']\n",
    "data3['Description']=['15 lakh drivers','6000 employees','Average Revenue ↔ 18515 lakhs','5000 kWh per month','borrowing of money to build or purchase assets.','Phone Bills/Maintenance/Advertisement']\n",
    "data3['Summary']=['1500₹ monthly','1 lakh ₹ salary','Tax ↔ 5555 lakhs','5000 x 8.33 x 12 hours','10.25 crores','250 crores']\n",
    "data3['Total Expenses(in lakhs)']=[22500,6000,5555,5,1025,25000]\n",
    "data3"
   ]
  },
  {
   "cell_type": "code",
   "execution_count": 14,
   "metadata": {},
   "outputs": [
    {
     "data": {
      "text/plain": [
       "37585"
      ]
     },
     "execution_count": 14,
     "metadata": {},
     "output_type": "execute_result"
    }
   ],
   "source": [
    "data3['Total Expenses(in lakhs)'][1:].sum()"
   ]
  },
  {
   "cell_type": "markdown",
   "metadata": {},
   "source": [
    "## <span style='background :khaki'><span style='font-family:\"Times New Roman\"'>Monthly Operating Cost : ₹375.85 Crores </span> "
   ]
  },
  {
   "cell_type": "markdown",
   "metadata": {},
   "source": [
    " ## <span style='background :paleTURQUOISE'><span style='font-family:\"Times New Roman\"'>OLΛ Food Delivery  🐼 Foodpanda</span> "
   ]
  },
  {
   "cell_type": "code",
   "execution_count": 6,
   "metadata": {},
   "outputs": [
    {
     "data": {
      "text/html": [
       "<div>\n",
       "<style scoped>\n",
       "    .dataframe tbody tr th:only-of-type {\n",
       "        vertical-align: middle;\n",
       "    }\n",
       "\n",
       "    .dataframe tbody tr th {\n",
       "        vertical-align: top;\n",
       "    }\n",
       "\n",
       "    .dataframe thead th {\n",
       "        text-align: right;\n",
       "    }\n",
       "</style>\n",
       "<table border=\"1\" class=\"dataframe\">\n",
       "  <thead>\n",
       "    <tr style=\"text-align: right;\">\n",
       "      <th></th>\n",
       "      <th>Operating Cost Factors</th>\n",
       "      <th>Description</th>\n",
       "      <th>Summary</th>\n",
       "      <th>Total Expenses(in lakhs)</th>\n",
       "    </tr>\n",
       "  </thead>\n",
       "  <tbody>\n",
       "    <tr>\n",
       "      <th>0</th>\n",
       "      <td>Total Income</td>\n",
       "      <td>Annual Revenue</td>\n",
       "      <td>7213 lakhs</td>\n",
       "      <td>7213</td>\n",
       "    </tr>\n",
       "    <tr>\n",
       "      <th>1</th>\n",
       "      <td>Employees Salary</td>\n",
       "      <td>1500 employees</td>\n",
       "      <td>20000₹ monthly</td>\n",
       "      <td>300</td>\n",
       "    </tr>\n",
       "    <tr>\n",
       "      <th>2</th>\n",
       "      <td>Statutory Cost</td>\n",
       "      <td>Annual Revenue ↔ 7213 lakhs</td>\n",
       "      <td>Tax ↔ 2163 lakhs</td>\n",
       "      <td>2163</td>\n",
       "    </tr>\n",
       "    <tr>\n",
       "      <th>3</th>\n",
       "      <td>Other expenses</td>\n",
       "      <td>Phone Bills/Maintenance/Transport/Advertisement</td>\n",
       "      <td>5000 lakhs</td>\n",
       "      <td>5000</td>\n",
       "    </tr>\n",
       "  </tbody>\n",
       "</table>\n",
       "</div>"
      ],
      "text/plain": [
       "  Operating Cost Factors                                      Description  \\\n",
       "0           Total Income                                   Annual Revenue   \n",
       "1       Employees Salary                                   1500 employees   \n",
       "2         Statutory Cost                      Annual Revenue ↔ 7213 lakhs   \n",
       "3         Other expenses  Phone Bills/Maintenance/Transport/Advertisement   \n",
       "\n",
       "            Summary  Total Expenses(in lakhs)  \n",
       "0        7213 lakhs                      7213  \n",
       "1    20000₹ monthly                       300  \n",
       "2  Tax ↔ 2163 lakhs                      2163  \n",
       "3        5000 lakhs                      5000  "
      ]
     },
     "execution_count": 6,
     "metadata": {},
     "output_type": "execute_result"
    }
   ],
   "source": [
    "data4=pd.DataFrame()\n",
    "data4['Operating Cost Factors']=['Total Income','Employees Salary','Statutory Cost','Other expenses']\n",
    "data4['Description']=['Annual Revenue','1500 employees','Annual Revenue ↔ 7213 lakhs','Phone Bills/Maintenance/Transport/Advertisement']\n",
    "data4['Summary']=['7213 lakhs','20000₹ monthly','Tax ↔ 2163 lakhs','5000 lakhs']\n",
    "data4['Total Expenses(in lakhs)']=[7213,300,2163,5000]\n",
    "data4"
   ]
  },
  {
   "cell_type": "code",
   "execution_count": 7,
   "metadata": {},
   "outputs": [
    {
     "data": {
      "text/plain": [
       "7463"
      ]
     },
     "execution_count": 7,
     "metadata": {},
     "output_type": "execute_result"
    }
   ],
   "source": [
    "data4['Total Expenses(in lakhs)'][1:].sum()"
   ]
  },
  {
   "cell_type": "markdown",
   "metadata": {},
   "source": [
    "## <span style='background :khaki'><span style='font-family:\"Times New Roman\"'>Monthly Operating Cost : ₹74.63 Crores </span> "
   ]
  },
  {
   "cell_type": "markdown",
   "metadata": {},
   "source": [
    "## <span style='background :paleturquoise'><span style='font-family:\"Times New Roman\"'>OLΛ Financial Services 💳</span> "
   ]
  },
  {
   "cell_type": "code",
   "execution_count": 8,
   "metadata": {},
   "outputs": [
    {
     "data": {
      "text/html": [
       "<div>\n",
       "<style scoped>\n",
       "    .dataframe tbody tr th:only-of-type {\n",
       "        vertical-align: middle;\n",
       "    }\n",
       "\n",
       "    .dataframe tbody tr th {\n",
       "        vertical-align: top;\n",
       "    }\n",
       "\n",
       "    .dataframe thead th {\n",
       "        text-align: right;\n",
       "    }\n",
       "</style>\n",
       "<table border=\"1\" class=\"dataframe\">\n",
       "  <thead>\n",
       "    <tr style=\"text-align: right;\">\n",
       "      <th></th>\n",
       "      <th>Description</th>\n",
       "      <th>Summary</th>\n",
       "      <th>Total Expenses(in lakhs)</th>\n",
       "    </tr>\n",
       "  </thead>\n",
       "  <tbody>\n",
       "    <tr>\n",
       "      <th>0</th>\n",
       "      <td>15-20% of development cost (Ola Money Wallet)</td>\n",
       "      <td>(20% of 20000$) annually</td>\n",
       "      <td>0.25</td>\n",
       "    </tr>\n",
       "    <tr>\n",
       "      <th>1</th>\n",
       "      <td>Other Expenses</td>\n",
       "      <td>Maintenance/Advertisement</td>\n",
       "      <td>10.00</td>\n",
       "    </tr>\n",
       "  </tbody>\n",
       "</table>\n",
       "</div>"
      ],
      "text/plain": [
       "                                     Description                    Summary  \\\n",
       "0  15-20% of development cost (Ola Money Wallet)   (20% of 20000$) annually   \n",
       "1                                 Other Expenses  Maintenance/Advertisement   \n",
       "\n",
       "   Total Expenses(in lakhs)  \n",
       "0                      0.25  \n",
       "1                     10.00  "
      ]
     },
     "execution_count": 8,
     "metadata": {},
     "output_type": "execute_result"
    }
   ],
   "source": [
    "data5=pd.DataFrame()\n",
    "data5['Description']=['15-20% of development cost (Ola Money Wallet)','Other Expenses']\n",
    "data5['Summary']=['(20% of 20000$) annually','Maintenance/Advertisement']\n",
    "data5['Total Expenses(in lakhs)']=[0.25,10]\n",
    "data5"
   ]
  },
  {
   "cell_type": "code",
   "execution_count": 9,
   "metadata": {},
   "outputs": [
    {
     "data": {
      "text/plain": [
       "10.25"
      ]
     },
     "execution_count": 9,
     "metadata": {},
     "output_type": "execute_result"
    }
   ],
   "source": [
    "data5['Total Expenses(in lakhs)'].sum()"
   ]
  },
  {
   "cell_type": "markdown",
   "metadata": {},
   "source": [
    "## <span style='background :khaki'><span style='font-family:\"Times New Roman\"'>Monthly Operating Cost : ₹10.25 Lakhs </span> "
   ]
  },
  {
   "cell_type": "markdown",
   "metadata": {},
   "source": [
    "# <span style='background :palegreen'><span style='font-family:\"Times New Roman\"'>Overall Monthly Cost for running Operations of OLA : ₹450 Crores </span> "
   ]
  },
  {
   "cell_type": "code",
   "execution_count": 10,
   "metadata": {},
   "outputs": [
    {
     "data": {
      "text/plain": [
       "448.8175"
      ]
     },
     "execution_count": 10,
     "metadata": {},
     "output_type": "execute_result"
    }
   ],
   "source": [
    "(538581/12)/100 "
   ]
  },
  {
   "cell_type": "code",
   "execution_count": null,
   "metadata": {},
   "outputs": [],
   "source": []
  }
 ],
 "metadata": {
  "kernelspec": {
   "display_name": "Python 3",
   "language": "python",
   "name": "python3"
  },
  "language_info": {
   "codemirror_mode": {
    "name": "ipython",
    "version": 3
   },
   "file_extension": ".py",
   "mimetype": "text/x-python",
   "name": "python",
   "nbconvert_exporter": "python",
   "pygments_lexer": "ipython3",
   "version": "3.7.3"
  }
 },
 "nbformat": 4,
 "nbformat_minor": 2
}
