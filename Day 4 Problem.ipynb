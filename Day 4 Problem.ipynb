{
 "cells": [
  {
   "cell_type": "markdown",
   "metadata": {},
   "source": [
    "# <span style='background :beige'><span style='font-family:\"Times New Roman\"'>Q4. Design a Dutch auction based price discovery platform for OLA public issue. While designing the system, consider the transparency, security and efficiency. </span> "
   ]
  },
  {
   "cell_type": "markdown",
   "metadata": {},
   "source": [
    "## <span style='background :paleturquoise'><span style='font-family:\"Times New Roman\"'>Importing Necessary Libraries</span> "
   ]
  },
  {
   "cell_type": "code",
   "execution_count": 51,
   "metadata": {},
   "outputs": [],
   "source": [
    "import pandas as pd\n",
    "import matplotlib.pyplot as plt\n",
    "import seaborn as sns\n",
    "sns.set()"
   ]
  },
  {
   "cell_type": "markdown",
   "metadata": {},
   "source": [
    "## <span style='background :wheat'><span style='font-family:\"Times New Roman\"'>What is Dutch Auction?</span>\n",
    "### A Dutch auction is a method for pricing shares (often in an initial public offering) whereby the price of the shares offered is lowered until there are enough bids to sell all shares. All the shares are then sold at that price. "
   ]
  },
  {
   "cell_type": "markdown",
   "metadata": {},
   "source": [
    "## <span style='background :wheat'><span style='font-family:\"Times New Roman\"'>How Does Dutch Auction Work?</span>\n",
    "### The goal of a Dutch auction is the find the optimal price at which to sell a security.     \n",
    "### To participate in a Dutch auction, an investor typically opens an account with Company XYZ's underwriter (usually an investment bank), obtains a prospectus, and obtains an access code or bidder identification code (Dutch auctions often occur online).     \n",
    "### During bidding, investors indicate how many shares they're willing to buy and the price they're willing to pay. \n",
    "### The underwriter, who acts as the auctioneer, usually starts the auction by offering a prohibitively high price for the security. \n",
    "### When the auction closes, the underwriters calculate the highest price at which all shares will be sold.    "
   ]
  },
  {
   "cell_type": "markdown",
   "metadata": {},
   "source": [
    "## <span style='background :wheat'><span style='font-family:\"Times New Roman\"'>Why Does Dutch Auction Matter?</span>\n",
    "### Normally, the price of shares in an IPO is set by an investment bank after conducting several valuation calculations and talking to potential investors. But a Dutch auction is theoretically more efficient at finding the \"right\" price that equates supply and demand.    \n",
    "### Buyers pay more for stock sold in Dutch auctions because under the traditional method investment banks typically underprice offerings to make sure all the shares sell.    \n",
    "### Shareholders benefit when shares are sold using traditional methods because the initial spike often associated with traditional IPOs creates an image of success that drives the stock even higher.    "
   ]
  },
  {
   "cell_type": "markdown",
   "metadata": {},
   "source": [
    "![](Necessary_Files/Q4.png)"
   ]
  },
  {
   "cell_type": "code",
   "execution_count": 50,
   "metadata": {},
   "outputs": [
    {
     "data": {
      "text/html": [
       "<div>\n",
       "<style scoped>\n",
       "    .dataframe tbody tr th:only-of-type {\n",
       "        vertical-align: middle;\n",
       "    }\n",
       "\n",
       "    .dataframe tbody tr th {\n",
       "        vertical-align: top;\n",
       "    }\n",
       "\n",
       "    .dataframe thead th {\n",
       "        text-align: right;\n",
       "    }\n",
       "</style>\n",
       "<table border=\"1\" class=\"dataframe\">\n",
       "  <thead>\n",
       "    <tr style=\"text-align: right;\">\n",
       "      <th></th>\n",
       "      <th>Transparency</th>\n",
       "      <th>Security</th>\n",
       "      <th>Efficiency</th>\n",
       "    </tr>\n",
       "  </thead>\n",
       "  <tbody>\n",
       "    <tr>\n",
       "      <th>0</th>\n",
       "      <td>The Sellers</td>\n",
       "      <td>Confidentiality</td>\n",
       "      <td>Price-to-Earnings Ratio</td>\n",
       "    </tr>\n",
       "    <tr>\n",
       "      <th>1</th>\n",
       "      <td>The Buyers</td>\n",
       "      <td>Authentication</td>\n",
       "      <td>Debt-to-Equity Ratio</td>\n",
       "    </tr>\n",
       "    <tr>\n",
       "      <th>2</th>\n",
       "      <td>The Lenders</td>\n",
       "      <td>Integrity</td>\n",
       "      <td>Free Cash Flow</td>\n",
       "    </tr>\n",
       "    <tr>\n",
       "      <th>3</th>\n",
       "      <td></td>\n",
       "      <td>Non-Repudiation</td>\n",
       "      <td>PEG Ratio</td>\n",
       "    </tr>\n",
       "  </tbody>\n",
       "</table>\n",
       "</div>"
      ],
      "text/plain": [
       "  Transparency         Security               Efficiency\n",
       "0  The Sellers  Confidentiality  Price-to-Earnings Ratio\n",
       "1   The Buyers   Authentication     Debt-to-Equity Ratio\n",
       "2  The Lenders        Integrity           Free Cash Flow\n",
       "3               Non-Repudiation                PEG Ratio"
      ]
     },
     "execution_count": 50,
     "metadata": {},
     "output_type": "execute_result"
    }
   ],
   "source": [
    "data1=pd.DataFrame()\n",
    "data1['Transparency']=['The Sellers','The Buyers','The Lenders','']\n",
    "data1['Security']=['Confidentiality','Authentication','Integrity','Non-Repudiation']\n",
    "data1['Efficiency']=['Price-to-Earnings Ratio','Debt-to-Equity Ratio','Free Cash Flow','PEG Ratio']\n",
    "data1"
   ]
  },
  {
   "cell_type": "code",
   "execution_count": null,
   "metadata": {},
   "outputs": [],
   "source": [
    "# Search Results\n",
    "\n",
    "Non-repudiation is the assurance that someone cannot deny the validity of something."
   ]
  },
  {
   "cell_type": "markdown",
   "metadata": {},
   "source": [
    "![](Necessary_Files/transparency.png)\n",
    "![](Necessary_Files/security.png)\n",
    "![](Necessary_Files/efficiency.png)"
   ]
  },
  {
   "cell_type": "code",
   "execution_count": null,
   "metadata": {},
   "outputs": [],
   "source": []
  },
  {
   "cell_type": "code",
   "execution_count": null,
   "metadata": {},
   "outputs": [],
   "source": []
  }
 ],
 "metadata": {
  "kernelspec": {
   "display_name": "Python 3",
   "language": "python",
   "name": "python3"
  },
  "language_info": {
   "codemirror_mode": {
    "name": "ipython",
    "version": 3
   },
   "file_extension": ".py",
   "mimetype": "text/x-python",
   "name": "python",
   "nbconvert_exporter": "python",
   "pygments_lexer": "ipython3",
   "version": "3.7.3"
  }
 },
 "nbformat": 4,
 "nbformat_minor": 2
}
